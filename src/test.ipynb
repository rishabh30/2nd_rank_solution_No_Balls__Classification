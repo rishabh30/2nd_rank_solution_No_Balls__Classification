{
 "cells": [
  {
   "cell_type": "code",
   "execution_count": 0,
   "metadata": {
    "colab": {},
    "colab_type": "code",
    "id": "eM2dWZFINubZ"
   },
   "outputs": [],
   "source": [
    "from keras.utils import layer_utils\n",
    "from keras.utils.data_utils import get_file\n",
    "from keras.applications.imagenet_utils import decode_predictions\n",
    "from keras.applications.imagenet_utils import preprocess_input\n",
    "from keras_applications.imagenet_utils import _obtain_input_shape\n",
    "from keras.engine.topology import get_source_inputs\n",
    "from keras.preprocessing import image\n",
    "from keras.applications import resnet50, inception_v3, vgg16\n",
    "from keras.models import Model\n",
    "from keras.layers import Dense, GlobalAveragePooling2D, Input\n",
    "from keras.optimizers import Adam\n",
    "import numpy as np\n",
    "import os\n",
    "from zipfile import ZipFile\n",
    "from shutil import copy"
   ]
  },
  {
   "cell_type": "markdown",
   "metadata": {},
   "source": [
    "# Loading Model"
   ]
  },
  {
   "cell_type": "markdown",
   "metadata": {},
   "source": [
    "### Please load the test data set in the format - test_data inside that two folders one named No_ball and other named valid_ball you can upload it either by directly uploading the zip file and then unzipping it or through google colab. "
   ]
  },
  {
   "cell_type": "markdown",
   "metadata": {},
   "source": [
    "### Also load the file named 'No_ballResNet50FineTune_1.h5' provided in the submission file"
   ]
  },
  {
   "cell_type": "code",
   "execution_count": 5,
   "metadata": {
    "colab": {
     "base_uri": "https://localhost:8080/",
     "height": 710
    },
    "colab_type": "code",
    "id": "hHDCUnF9OHWp",
    "outputId": "c858119e-ad46-447b-8965-fd419a80d310",
    "scrolled": true
   },
   "outputs": [
    {
     "name": "stdout",
     "output_type": "stream",
     "text": [
      "WARNING:tensorflow:From /usr/local/lib/python3.6/dist-packages/keras/backend/tensorflow_backend.py:541: The name tf.placeholder is deprecated. Please use tf.compat.v1.placeholder instead.\n",
      "\n",
      "WARNING:tensorflow:From /usr/local/lib/python3.6/dist-packages/keras/backend/tensorflow_backend.py:4479: The name tf.truncated_normal is deprecated. Please use tf.random.truncated_normal instead.\n",
      "\n",
      "WARNING:tensorflow:From /usr/local/lib/python3.6/dist-packages/keras/backend/tensorflow_backend.py:66: The name tf.get_default_graph is deprecated. Please use tf.compat.v1.get_default_graph instead.\n",
      "\n",
      "WARNING:tensorflow:From /usr/local/lib/python3.6/dist-packages/keras/backend/tensorflow_backend.py:190: The name tf.get_default_session is deprecated. Please use tf.compat.v1.get_default_session instead.\n",
      "\n",
      "WARNING:tensorflow:From /usr/local/lib/python3.6/dist-packages/keras/backend/tensorflow_backend.py:197: The name tf.ConfigProto is deprecated. Please use tf.compat.v1.ConfigProto instead.\n",
      "\n",
      "WARNING:tensorflow:From /usr/local/lib/python3.6/dist-packages/keras/backend/tensorflow_backend.py:203: The name tf.Session is deprecated. Please use tf.compat.v1.Session instead.\n",
      "\n",
      "WARNING:tensorflow:From /usr/local/lib/python3.6/dist-packages/keras/backend/tensorflow_backend.py:207: The name tf.global_variables is deprecated. Please use tf.compat.v1.global_variables instead.\n",
      "\n",
      "WARNING:tensorflow:From /usr/local/lib/python3.6/dist-packages/keras/backend/tensorflow_backend.py:216: The name tf.is_variable_initialized is deprecated. Please use tf.compat.v1.is_variable_initialized instead.\n",
      "\n",
      "WARNING:tensorflow:From /usr/local/lib/python3.6/dist-packages/keras/backend/tensorflow_backend.py:223: The name tf.variables_initializer is deprecated. Please use tf.compat.v1.variables_initializer instead.\n",
      "\n",
      "WARNING:tensorflow:From /usr/local/lib/python3.6/dist-packages/keras/backend/tensorflow_backend.py:2041: The name tf.nn.fused_batch_norm is deprecated. Please use tf.compat.v1.nn.fused_batch_norm instead.\n",
      "\n",
      "WARNING:tensorflow:From /usr/local/lib/python3.6/dist-packages/keras/backend/tensorflow_backend.py:148: The name tf.placeholder_with_default is deprecated. Please use tf.compat.v1.placeholder_with_default instead.\n",
      "\n",
      "WARNING:tensorflow:From /usr/local/lib/python3.6/dist-packages/keras/backend/tensorflow_backend.py:4267: The name tf.nn.max_pool is deprecated. Please use tf.nn.max_pool2d instead.\n",
      "\n",
      "WARNING:tensorflow:From /usr/local/lib/python3.6/dist-packages/keras/backend/tensorflow_backend.py:4432: The name tf.random_uniform is deprecated. Please use tf.random.uniform instead.\n",
      "\n",
      "WARNING:tensorflow:From /usr/local/lib/python3.6/dist-packages/keras/optimizers.py:793: The name tf.train.Optimizer is deprecated. Please use tf.compat.v1.train.Optimizer instead.\n",
      "\n",
      "WARNING:tensorflow:From /usr/local/lib/python3.6/dist-packages/keras/backend/tensorflow_backend.py:3657: The name tf.log is deprecated. Please use tf.math.log instead.\n",
      "\n",
      "WARNING:tensorflow:From /usr/local/lib/python3.6/dist-packages/tensorflow_core/python/ops/nn_impl.py:183: where (from tensorflow.python.ops.array_ops) is deprecated and will be removed in a future version.\n",
      "Instructions for updating:\n",
      "Use tf.where in 2.0, which has the same broadcast rule as np.where\n",
      "WARNING:tensorflow:From /usr/local/lib/python3.6/dist-packages/keras/backend/tensorflow_backend.py:1033: The name tf.assign_add is deprecated. Please use tf.compat.v1.assign_add instead.\n",
      "\n",
      "WARNING:tensorflow:From /usr/local/lib/python3.6/dist-packages/keras/backend/tensorflow_backend.py:1020: The name tf.assign is deprecated. Please use tf.compat.v1.assign instead.\n",
      "\n"
     ]
    }
   ],
   "source": [
    "from keras.models import load_model\n",
    "p = load_model('No_ballResNet50FineTune_1.h5')"
   ]
  },
  {
   "cell_type": "code",
   "execution_count": null,
   "metadata": {
    "colab": {},
    "colab_type": "code",
    "id": "VCNgLREDRJnN"
   },
   "outputs": [],
   "source": [
    "#Run this cell only if uplaoding the zip file(test dataset) directly from drive link.\n",
    "#change field by changing pasting the id of drive share link of the test data\n",
    "fileId = '14FiaZImlYMupUbX19utXgSq-ajy2dfZ3' \n",
    "import os\n",
    "from zipfile import ZipFile\n",
    "from shutil import copy\n",
    "from pydrive.auth import GoogleAuth\n",
    "from pydrive.drive import GoogleDrive\n",
    "from google.colab import auth\n",
    "from oauth2client.client import GoogleCredentials\n",
    "\n",
    "auth.authenticate_user()\n",
    "gauth = GoogleAuth()\n",
    "gauth.credentials = GoogleCredentials.get_application_default()\n",
    "drive = GoogleDrive(gauth)\n",
    "\n",
    "fileName = fileId + '.zip'\n",
    "downloaded = drive.CreateFile({'id': fileId})\n",
    "downloaded.GetContentFile(fileName)     \n",
    "ds = ZipFile(fileName)   \n",
    "ds.extractall()\n",
    "os.remove(fileName)\n",
    "print('Extracted zip file ' + fileName)"
   ]
  },
  {
   "cell_type": "code",
   "execution_count": 0,
   "metadata": {
    "colab": {},
    "colab_type": "code",
    "id": "5aGqQZ_YRz4x"
   },
   "outputs": [],
   "source": [
    "#Run this cell only if not running the above cell i.e. uplaoding the zip file directly from local host\n",
    "ds = ZipFile(\"/content/data2.zip\", 'r')   #change data2 with the name of zip folder upload \n",
    "ds.extractall()\n",
    "os.remove(\"data2.zip\")\n",
    "#print('Extracted zip file ' + fileName)"
   ]
  },
  {
   "cell_type": "code",
   "execution_count": 29,
   "metadata": {
    "colab": {
     "base_uri": "https://localhost:8080/",
     "height": 72
    },
    "colab_type": "code",
    "id": "0CZrrC6lOLRx",
    "outputId": "483ff172-f640-4301-fcbd-7e8c0ba8553f"
   },
   "outputs": [
    {
     "name": "stdout",
     "output_type": "stream",
     "text": [
      "2\n",
      "Found 82 images belonging to 2 classes.\n",
      "{'No_ball': 0, 'valid_ball': 1}\n"
     ]
    }
   ],
   "source": [
    "from keras.preprocessing.image import ImageDataGenerator\n",
    "PATHtest = '/content/data2'        #change data2 with the name of zip folder upload\n",
    "print(len(os.listdir(PATHtest)))\n",
    "test_dir = PATHtest\n",
    "batch_size = 32\n",
    "target_size=(224, 224)\n",
    "\n",
    "test_datagen = ImageDataGenerator(rescale=1./255)\n",
    "test_generator = test_datagen.flow_from_directory(\n",
    "test_dir,target_size=target_size,batch_size=batch_size)\n",
    "\n",
    "print(test_generator.class_indices)\n"
   ]
  },
  {
   "cell_type": "code",
   "execution_count": 0,
   "metadata": {
    "colab": {},
    "colab_type": "code",
    "id": "CUAdT0jGa1t7"
   },
   "outputs": [],
   "source": [
    "test_loss, test_acc = p.evaluate_generator(test_generator, steps= 3561 // batch_size, verbose=1)\n",
    "print('test acc:', test_acc)"
   ]
  },
  {
   "cell_type": "code",
   "execution_count": 0,
   "metadata": {
    "colab": {},
    "colab_type": "code",
    "id": "PC4prlVPOLan"
   },
   "outputs": [],
   "source": [
    "p.evaluate_generator(test_generator, steps= 3561 // batch_size, verbose=1)"
   ]
  },
  {
   "cell_type": "code",
   "execution_count": 24,
   "metadata": {
    "colab": {
     "base_uri": "https://localhost:8080/",
     "height": 35
    },
    "colab_type": "code",
    "id": "f8bGiIYyOLX7",
    "outputId": "b94d2306-a6cf-4e5e-d52d-c13abf2f5158"
   },
   "outputs": [
    {
     "name": "stdout",
     "output_type": "stream",
     "text": [
      "{'No_ball': 0, 'valid_ball': 1}\n"
     ]
    }
   ],
   "source": [
    "print(test_generator.class_indices)"
   ]
  },
  {
   "cell_type": "code",
   "execution_count": 26,
   "metadata": {
    "colab": {
     "base_uri": "https://localhost:8080/",
     "height": 1000
    },
    "colab_type": "code",
    "id": "q1bQet_POP67",
    "outputId": "e48bed40-c011-411c-db81-6ec15ac782db",
    "scrolled": true
   },
   "outputs": [
    {
     "data": {
      "text/plain": [
       "array([[4.90432858e-01, 5.09567201e-01],\n",
       "       [9.99743402e-01, 2.56575295e-04],\n",
       "       [9.99939919e-01, 6.00367675e-05],\n",
       "       [9.99809921e-01, 1.90055449e-04],\n",
       "       [9.90637124e-01, 9.36293416e-03],\n",
       "       [9.99971986e-01, 2.80609966e-05],\n",
       "       [1.00000000e+00, 4.11591428e-09],\n",
       "       [9.99613941e-01, 3.86115891e-04],\n",
       "       [8.31748545e-03, 9.91682529e-01],\n",
       "       [2.78673247e-02, 9.72132683e-01],\n",
       "       [9.89265442e-02, 9.01073456e-01],\n",
       "       [9.99983788e-01, 1.61651351e-05],\n",
       "       [1.83395267e-01, 8.16604733e-01],\n",
       "       [9.98356640e-01, 1.64337421e-03],\n",
       "       [9.99989748e-01, 1.01957794e-05],\n",
       "       [1.46984321e-03, 9.98530149e-01],\n",
       "       [9.99997735e-01, 2.31910485e-06],\n",
       "       [3.84518411e-03, 9.96154845e-01],\n",
       "       [9.09890077e-05, 9.99909043e-01],\n",
       "       [5.44126868e-01, 4.55873162e-01],\n",
       "       [9.99821007e-01, 1.79068098e-04],\n",
       "       [3.84823536e-03, 9.96151745e-01],\n",
       "       [9.99645472e-01, 3.54565622e-04],\n",
       "       [9.99939561e-01, 6.04487941e-05],\n",
       "       [9.99978065e-01, 2.18953428e-05],\n",
       "       [9.99969482e-01, 3.05177964e-05],\n",
       "       [9.99724686e-01, 2.75241851e-04],\n",
       "       [9.99949217e-01, 5.07822588e-05],\n",
       "       [4.58051742e-04, 9.99541998e-01],\n",
       "       [9.99700904e-01, 2.99123436e-04],\n",
       "       [2.85714399e-03, 9.97142851e-01],\n",
       "       [9.95075762e-01, 4.92419209e-03],\n",
       "       [9.99999642e-01, 3.41007762e-07],\n",
       "       [6.13073818e-02, 9.38692629e-01],\n",
       "       [9.98068988e-01, 1.93101808e-03],\n",
       "       [9.99828458e-01, 1.71571548e-04],\n",
       "       [9.99991298e-01, 8.74670513e-06],\n",
       "       [9.99988556e-01, 1.14101395e-05],\n",
       "       [1.30196591e-03, 9.98697996e-01],\n",
       "       [9.99662519e-01, 3.37530917e-04],\n",
       "       [6.84507862e-02, 9.31549191e-01],\n",
       "       [9.99997735e-01, 2.31269541e-06],\n",
       "       [9.99782145e-01, 2.17888810e-04],\n",
       "       [1.76683883e-03, 9.98233080e-01],\n",
       "       [2.94997077e-03, 9.97050047e-01],\n",
       "       [9.99840617e-01, 1.59312884e-04],\n",
       "       [9.99994755e-01, 5.20373760e-06],\n",
       "       [9.99662519e-01, 3.37530917e-04],\n",
       "       [1.41110818e-03, 9.98588860e-01],\n",
       "       [9.99961138e-01, 3.88589324e-05],\n",
       "       [9.99512553e-01, 4.87420883e-04],\n",
       "       [9.98925984e-01, 1.07404741e-03],\n",
       "       [9.99920487e-01, 7.94970183e-05],\n",
       "       [2.51898710e-02, 9.74810183e-01],\n",
       "       [8.89039814e-01, 1.10960245e-01],\n",
       "       [9.99963284e-01, 3.67568864e-05],\n",
       "       [3.54747265e-03, 9.96452570e-01],\n",
       "       [4.10626933e-04, 9.99589384e-01],\n",
       "       [8.18134693e-04, 9.99181807e-01],\n",
       "       [1.64826110e-01, 8.35173845e-01],\n",
       "       [1.16074728e-02, 9.88392532e-01],\n",
       "       [9.83649969e-01, 1.63501129e-02],\n",
       "       [1.00000000e+00, 1.53539326e-09],\n",
       "       [9.99979377e-01, 2.06254681e-05],\n",
       "       [1.09278783e-01, 8.90721262e-01],\n",
       "       [9.99920487e-01, 7.94970183e-05],\n",
       "       [9.99809086e-01, 1.90941486e-04],\n",
       "       [2.02071667e-01, 7.97928333e-01],\n",
       "       [9.97797132e-01, 2.20286264e-03],\n",
       "       [1.00000000e+00, 3.23492984e-08],\n",
       "       [1.45838119e-03, 9.98541594e-01],\n",
       "       [9.98573661e-01, 1.42633740e-03],\n",
       "       [1.52341637e-03, 9.98476565e-01],\n",
       "       [1.83359825e-03, 9.98166382e-01],\n",
       "       [1.10412939e-02, 9.88958716e-01],\n",
       "       [9.99010444e-01, 9.89580760e-04],\n",
       "       [3.28701399e-02, 9.67129886e-01],\n",
       "       [1.70843245e-03, 9.98291552e-01],\n",
       "       [2.18182951e-02, 9.78181660e-01],\n",
       "       [1.78856149e-04, 9.99821126e-01],\n",
       "       [9.99999881e-01, 1.70940837e-07],\n",
       "       [9.99848604e-01, 1.51363012e-04]], dtype=float32)"
      ]
     },
     "execution_count": 26,
     "metadata": {
      "tags": []
     },
     "output_type": "execute_result"
    }
   ],
   "source": [
    "p.predict_generator(test_generator)"
   ]
  },
  {
   "cell_type": "code",
   "execution_count": 0,
   "metadata": {
    "colab": {},
    "colab_type": "code",
    "id": "hk98D_YbbH-j"
   },
   "outputs": [],
   "source": []
  }
 ],
 "metadata": {
  "accelerator": "GPU",
  "colab": {
   "name": "test.ipynb",
   "provenance": []
  },
  "kernelspec": {
   "display_name": "Python 3 (ipykernel)",
   "language": "python",
   "name": "python3"
  },
  "language_info": {
   "codemirror_mode": {
    "name": "ipython",
    "version": 3
   },
   "file_extension": ".py",
   "mimetype": "text/x-python",
   "name": "python",
   "nbconvert_exporter": "python",
   "pygments_lexer": "ipython3",
   "version": "3.7.10"
  }
 },
 "nbformat": 4,
 "nbformat_minor": 1
}
